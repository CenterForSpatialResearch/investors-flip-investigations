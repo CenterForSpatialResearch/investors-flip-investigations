{
 "cells": [
  {
   "cell_type": "code",
   "execution_count": 15,
   "id": "76b85209",
   "metadata": {},
   "outputs": [],
   "source": [
    "import geopandas as gpd\n",
    "import pandas as pd\n",
    "pd.set_option('display.max_columns', 80)\n",
    "from shapely.geometry import Point, LineString\n",
    "from geopandas import GeoDataFrame\n",
    "from matplotlib.colors import LinearSegmentedColormap\n",
    "import matplotlib.pyplot as plt\n",
    "import seaborn as sns\n",
    "import numpy as np\n",
    "import datetime"
   ]
  },
  {
   "cell_type": "markdown",
   "id": "abe4c278",
   "metadata": {},
   "source": [
    "## Classifying investor purchases\n",
    "\n",
    "Process to classify deeds as (a) residential properties, (b) likely purchased by investors.\n",
    "\n",
    "## 1. Selecting deeds that fall within residential parcels\n",
    "\n",
    "Using land use data from the city of Philadelphia (see original source [here](https://www.opendataphilly.org/dataset/land-use))"
   ]
  },
  {
   "cell_type": "code",
   "execution_count": 4,
   "id": "3b3505f4",
   "metadata": {},
   "outputs": [],
   "source": [
    "# read in land use file\n",
    "landuse = gpd.read_file(\"data/Land_Use_2019/Land_Use.shp\")"
   ]
  },
  {
   "cell_type": "code",
   "execution_count": 7,
   "id": "f1c7e870",
   "metadata": {},
   "outputs": [],
   "source": [
    "# creating a more narrow set of residential parcels\n",
    "# just low and medium residential uses\n",
    "res = landuse.loc[(landuse['C_DIG2DESC']=='Residential Medium') | \n",
    "                    (landuse['C_DIG2DESC']=='Residential Low')]\n",
    "\n",
    "# dropping pacels with na values for their geometry\n",
    "res = res.dropna(subset=['geometry'])\n",
    "\n",
    "# reprojecting residential low/med only category\n",
    "res = res.to_crs('epsg:2272')"
   ]
  },
  {
   "cell_type": "code",
   "execution_count": 16,
   "id": "9c7d762c",
   "metadata": {},
   "outputs": [
    {
     "name": "stderr",
     "output_type": "stream",
     "text": [
      "/Users/darebrawley/anaconda3/envs/geo-2021/lib/python3.6/site-packages/IPython/core/interactiveshell.py:3072: DtypeWarning: Columns (26,34,39,40) have mixed types.Specify dtype option on import or set low_memory=False.\n",
      "  interactivity=interactivity, compiler=compiler, result=result)\n"
     ]
    }
   ],
   "source": [
    "# reading in the real estate tax transfer data\n",
    "rtt = pd.read_csv(\"data/rtt_summary.csv\")"
   ]
  },
  {
   "cell_type": "code",
   "execution_count": 17,
   "id": "d6b9c7fd",
   "metadata": {},
   "outputs": [
    {
     "name": "stderr",
     "output_type": "stream",
     "text": [
      "/Users/darebrawley/anaconda3/envs/geo-2021/lib/python3.6/site-packages/ipykernel_launcher.py:5: SettingWithCopyWarning: \n",
      "A value is trying to be set on a copy of a slice from a DataFrame.\n",
      "Try using .loc[row_indexer,col_indexer] = value instead\n",
      "\n",
      "See the caveats in the documentation: https://pandas.pydata.org/pandas-docs/stable/user_guide/indexing.html#returning-a-view-versus-a-copy\n",
      "  \"\"\"\n"
     ]
    }
   ],
   "source": [
    "# selecting just deeds (not mortgages and other transfer taxes)\n",
    "deeds = rtt.loc[rtt['document_type'] == \"DEED\"]\n",
    "# adding a year column from the document date\n",
    "deeds[\"sort_year\"] = deeds['display_date'].astype(str).str[:4]"
   ]
  },
  {
   "cell_type": "code",
   "execution_count": 64,
   "id": "b5e4eba6",
   "metadata": {},
   "outputs": [],
   "source": [
    "# defining points from lat/lon\n",
    "deeds_points = [Point(xy) for xy in zip(deeds.lat,deeds.lng)]\n",
    "deedsgeo = GeoDataFrame(deeds, geometry=deeds_points)"
   ]
  },
  {
   "cell_type": "code",
   "execution_count": 85,
   "id": "83a1c4e7",
   "metadata": {},
   "outputs": [],
   "source": [
    "# selecting only deeds with non zero state taxes\n",
    "deedsgeo = deedsgeo.loc[deedsgeo[\"state_tax_amount\"] > 0]\n",
    "\n",
    "# and that also have an address field\n",
    "deedsgeo= deedsgeo.loc[deedsgeo[\"address_low\"]>0]"
   ]
  },
  {
   "cell_type": "code",
   "execution_count": 71,
   "id": "bef5565c",
   "metadata": {},
   "outputs": [],
   "source": [
    "# setting the projection for the lat lon coordinates \n",
    "deedsgeo.crs = 'epsg:4326'"
   ]
  },
  {
   "cell_type": "code",
   "execution_count": 74,
   "id": "3971a7a4",
   "metadata": {},
   "outputs": [],
   "source": [
    "# reprojecting to: EPSG:2272: NAD83 / Pennsylvania South (ftUS)\n",
    "deedsgeo = deedsgeo.to_crs('epsg:2272')"
   ]
  },
  {
   "cell_type": "code",
   "execution_count": 78,
   "id": "566afc8b",
   "metadata": {},
   "outputs": [],
   "source": [
    "# spatial join between deeds and residential parcels (to find only those deeds within residential parcels)\n",
    "deeds_res = gpd.sjoin(deedsgeo,res, how=\"inner\",op=\"within\")"
   ]
  },
  {
   "cell_type": "markdown",
   "id": "11197d5e",
   "metadata": {},
   "source": [
    "## 2. Identify likely investor purchases\n",
    "First tag all grantees with corporate entity names. Then find all investors who purchased more than 2 properties in any one year span.   \n",
    "\n",
    "### 2A. Identifying Deeds with likely investors as the grantee based on grantee name\n",
    "First tag all investor named entities   \n",
    "  - LLC\n",
    "  - LP\n",
    "  - LIMITED PARTNERSHIP\n",
    "  - CORP\n",
    "  - CORPORATION\n",
    "  - INC\n",
    "  - COMPANY\n",
    "  - LIMITED PARTNE\n",
    "  - L P\n",
    "  - L L C\n",
    "  - PARTNERSHIP\n",
    "  - LTD\n",
    "  - TRUST \n",
    "    \n"
   ]
  },
  {
   "cell_type": "code",
   "execution_count": 87,
   "id": "8a3de13c",
   "metadata": {},
   "outputs": [],
   "source": [
    "# selecting just post-2000 deeds\n",
    "deeds_res['sort_year'] = pd.to_numeric(deeds_res['sort_year'])\n",
    "deeds_res = deeds_res.loc[deeds_res['sort_year']>1999]\n",
    "\n",
    "# selecting investors by grantee name\n",
    "inv = deeds_res['grantees'].str.contains(\n",
    "    'LLC|LP|LIMITED PARTNERSHIP|CORP|CORPORATION|INC|COMPANY|LIMITED PARTNE|L P|L L C|PARTNERSHIP|LTD|TRUST'\n",
    "    ,regex=True)\n",
    "\n",
    "# converting investors series to dataframe\n",
    "inv = inv.to_frame()\n",
    "\n",
    "# merging with deeds\n",
    "deeds_inv = deeds_res.merge(\n",
    "    inv, left_index=True, right_index = True)\n",
    "deeds_inv = deeds_inv.dropna(subset=['grantees_x'])\n",
    "\n",
    "# creating a count column to allow grouping and count \n",
    "# for investor and owner by year \n",
    "deeds_inv['inv'] = deeds_inv['grantees_y'].apply(lambda x: 1 if x == True else 0)\n",
    "deeds_inv['occ'] = deeds_inv['grantees_y'].apply(lambda x: 1 if x == False else 0)\n",
    "\n",
    "# dropping duplicate object ids from the dataset\n",
    "deeds_inv = deeds_inv.drop_duplicates(subset=\"objectid\")"
   ]
  },
  {
   "cell_type": "markdown",
   "id": "b6cafa0d",
   "metadata": {},
   "source": [
    "### 2B. Classifying investor purchases by multiple purchasers\n",
    "Identifying grantees who purchased more than 2 properties in any one year period from the full set of non-investor classified deeds:"
   ]
  },
  {
   "cell_type": "code",
   "execution_count": 91,
   "id": "3854edd2",
   "metadata": {},
   "outputs": [],
   "source": [
    "# finding multiple purchasers from the full set of non-investor classified deeds\n",
    "# selecting from just the non llc llp deeds\n",
    "occ = deeds_inv.loc[deeds_inv['occ']==1]"
   ]
  },
  {
   "cell_type": "code",
   "execution_count": 92,
   "id": "00cae7f8",
   "metadata": {},
   "outputs": [],
   "source": [
    "# getting all deeds from purchasers who are associated with more than one deed\n",
    "multiple_purchasers = occ.groupby(\n",
    "    \"grantees_x\").filter(lambda s: s['objectid'].count()>=2)\n"
   ]
  },
  {
   "cell_type": "code",
   "execution_count": 93,
   "id": "554892c0",
   "metadata": {},
   "outputs": [],
   "source": [
    "# converting date to datetime format\n",
    "multiple_purchasers['display_date'] = multiple_purchasers[\n",
    "    'display_date'].astype('datetime64[ns]')"
   ]
  },
  {
   "cell_type": "code",
   "execution_count": 94,
   "id": "c933264c",
   "metadata": {},
   "outputs": [],
   "source": [
    "# dropping unneeded columns\n",
    "columns_multi = ['objectid','grantors','grantees_x',\n",
    "                 'display_date','sort_year','street_address']\n",
    "multiple_purchase_simple = multiple_purchasers[columns_multi]\n"
   ]
  },
  {
   "cell_type": "code",
   "execution_count": 95,
   "id": "def20993",
   "metadata": {},
   "outputs": [
    {
     "name": "stderr",
     "output_type": "stream",
     "text": [
      "/Users/darebrawley/anaconda3/envs/geo-2021/lib/python3.6/site-packages/ipykernel_launcher.py:4: SettingWithCopyWarning: \n",
      "A value is trying to be set on a copy of a slice from a DataFrame.\n",
      "Try using .loc[row_indexer,col_indexer] = value instead\n",
      "\n",
      "See the caveats in the documentation: https://pandas.pydata.org/pandas-docs/stable/user_guide/indexing.html#returning-a-view-versus-a-copy\n",
      "  after removing the cwd from sys.path.\n",
      "/Users/darebrawley/anaconda3/envs/geo-2021/lib/python3.6/site-packages/ipykernel_launcher.py:10: SettingWithCopyWarning: \n",
      "A value is trying to be set on a copy of a slice from a DataFrame.\n",
      "Try using .loc[row_indexer,col_indexer] = value instead\n",
      "\n",
      "See the caveats in the documentation: https://pandas.pydata.org/pandas-docs/stable/user_guide/indexing.html#returning-a-view-versus-a-copy\n",
      "  # Remove the CWD from sys.path while we load stuff.\n"
     ]
    }
   ],
   "source": [
    "\n",
    "multiple_purchase_simple[\n",
    "    'elapsed'] = multiple_purchase_simple.sort_values(\n",
    "    ['grantees_x','display_date']).groupby(\n",
    "    'grantees_x')['display_date'].diff()\n",
    "\n",
    "# converting timedelta column to an int type \n",
    "# to make it possible to filter below\n",
    "multiple_purchase_simple[\n",
    "    'elapsed_days'] = multiple_purchase_simple[\n",
    "    'elapsed'].dt.days\n"
   ]
  },
  {
   "cell_type": "code",
   "execution_count": 98,
   "id": "6eef86d2",
   "metadata": {},
   "outputs": [],
   "source": [
    "# filtering for deeds from grantees who purchased two properties within 1 year of each other\n",
    "multiple_investors = multiple_purchase_simple.groupby('grantees_x').filter(\n",
    "    lambda x: x['elapsed_days'].min() <= 365)\n",
    "multiple_investors['multi_invest'] = 1"
   ]
  },
  {
   "cell_type": "markdown",
   "id": "dbf7d3c1",
   "metadata": {},
   "source": [
    "## 4. merging multiple purchase investors back with full set of deeds\n",
    "\n",
    "Compiling a comprehensive classification of investor purchases "
   ]
  },
  {
   "cell_type": "code",
   "execution_count": 128,
   "id": "31544363",
   "metadata": {},
   "outputs": [],
   "source": [
    "deeds_multi = deeds_inv.merge(\n",
    "    multiple_investors, left_on=\"objectid\", right_on=\"objectid\",how=\"left\")\n",
    "\n",
    "deeds_multi[\"investor_all\"] = deeds_multi[\n",
    "    \"inv\"] + deeds_multi[\"multi_invest\"].fillna(0)\n",
    "deeds_multi['owner_occup'] = deeds_multi[\n",
    "    'investor_all'].apply(lambda x: 0 if x == 1 else 1)"
   ]
  },
  {
   "cell_type": "code",
   "execution_count": 131,
   "id": "5a9ada3d",
   "metadata": {},
   "outputs": [],
   "source": [
    "# Saving classified deeds to speed up future processing time \n",
    "deeds_for_save = deeds_multi\n",
    "deeds_for_save['elapsed'] = deeds_for_save['elapsed'].fillna(pd.Timedelta('999 days'))\n",
    "deeds_for_save['elapsed'] = deeds_for_save['elapsed'].dt.days.astype('int16')\n",
    "deeds_for_save['display_date_y'] = deeds_for_save['display_date_y'].astype(str)\n"
   ]
  },
  {
   "cell_type": "code",
   "execution_count": 132,
   "id": "1bdf59bb",
   "metadata": {},
   "outputs": [],
   "source": [
    "# saving final list of grantees\n",
    "with open(\"data/rtt_investors_classified.geojson\",\n",
    "          'w') as f:\n",
    "    f.write(deeds_for_save.to_json())"
   ]
  },
  {
   "cell_type": "markdown",
   "id": "c5cb60c3",
   "metadata": {},
   "source": [
    "## 5. Reimport geojson of classified deeds\n",
    "\n",
    "To reimport classified deeds use gpd.read_file and then set the coordinate reference system:"
   ]
  },
  {
   "cell_type": "code",
   "execution_count": 133,
   "id": "f8862edd",
   "metadata": {},
   "outputs": [],
   "source": [
    "# read in classified deeds file\n",
    "rtt_classified = gpd.read_file(\"data/rtt_investors_classified.geojson\")"
   ]
  },
  {
   "cell_type": "code",
   "execution_count": 143,
   "id": "9508caa8",
   "metadata": {},
   "outputs": [],
   "source": [
    "# Specify coordinate reference system\n",
    "rtt_classified.crs = 'epsg:2272'"
   ]
  }
 ],
 "metadata": {
  "kernelspec": {
   "display_name": "Python 3",
   "language": "python",
   "name": "python3"
  },
  "language_info": {
   "codemirror_mode": {
    "name": "ipython",
    "version": 3
   },
   "file_extension": ".py",
   "mimetype": "text/x-python",
   "name": "python",
   "nbconvert_exporter": "python",
   "pygments_lexer": "ipython3",
   "version": "3.6.13"
  }
 },
 "nbformat": 4,
 "nbformat_minor": 5
}
