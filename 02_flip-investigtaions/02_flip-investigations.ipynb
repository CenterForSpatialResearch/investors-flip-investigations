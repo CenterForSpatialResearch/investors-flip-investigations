{
 "cells": [
  {
   "cell_type": "code",
   "execution_count": 1,
   "id": "38db5530",
   "metadata": {},
   "outputs": [],
   "source": [
    "import geopandas as gpd\n",
    "import pandas as pd\n",
    "pd.set_option('display.max_columns', 80)\n",
    "from shapely.geometry import Point, LineString\n",
    "from geopandas import GeoDataFrame\n",
    "from matplotlib.colors import LinearSegmentedColormap\n",
    "import matplotlib.pyplot as plt\n",
    "import seaborn as sns\n",
    "\n",
    "import numpy as np\n",
    "import datetime"
   ]
  },
  {
   "cell_type": "code",
   "execution_count": 2,
   "id": "d0fea6aa",
   "metadata": {},
   "outputs": [
    {
     "ename": "DriverError",
     "evalue": "data/rtt_investors_classified.geojson: No such file or directory",
     "output_type": "error",
     "traceback": [
      "\u001b[0;31m---------------------------------------------------------------------------\u001b[0m",
      "\u001b[0;31mCPLE_OpenFailedError\u001b[0m                      Traceback (most recent call last)",
      "\u001b[0;32mfiona/_shim.pyx\u001b[0m in \u001b[0;36mfiona._shim.gdal_open_vector\u001b[0;34m()\u001b[0m\n",
      "\u001b[0;32mfiona/_err.pyx\u001b[0m in \u001b[0;36mfiona._err.exc_wrap_pointer\u001b[0;34m()\u001b[0m\n",
      "\u001b[0;31mCPLE_OpenFailedError\u001b[0m: data/rtt_investors_classified.geojson: No such file or directory",
      "\nDuring handling of the above exception, another exception occurred:\n",
      "\u001b[0;31mDriverError\u001b[0m                               Traceback (most recent call last)",
      "\u001b[0;32m<ipython-input-2-dba277dd7c9e>\u001b[0m in \u001b[0;36m<module>\u001b[0;34m\u001b[0m\n\u001b[1;32m      1\u001b[0m \u001b[0;31m# read in classified deeds file\u001b[0m\u001b[0;34m\u001b[0m\u001b[0;34m\u001b[0m\u001b[0;34m\u001b[0m\u001b[0m\n\u001b[0;32m----> 2\u001b[0;31m \u001b[0mrtt_classifiedRead\u001b[0m \u001b[0;34m=\u001b[0m \u001b[0mgpd\u001b[0m\u001b[0;34m.\u001b[0m\u001b[0mread_file\u001b[0m\u001b[0;34m(\u001b[0m\u001b[0;34m\"data/rtt_investors_classified.geojson\"\u001b[0m\u001b[0;34m)\u001b[0m\u001b[0;34m\u001b[0m\u001b[0;34m\u001b[0m\u001b[0m\n\u001b[0m\u001b[1;32m      3\u001b[0m \u001b[0;34m\u001b[0m\u001b[0m\n",
      "\u001b[0;32m~/opt/anaconda3/envs/geo-2021/lib/python3.6/site-packages/geopandas/io/file.py\u001b[0m in \u001b[0;36m_read_file\u001b[0;34m(filename, bbox, mask, rows, **kwargs)\u001b[0m\n\u001b[1;32m    158\u001b[0m \u001b[0;34m\u001b[0m\u001b[0m\n\u001b[1;32m    159\u001b[0m     \u001b[0;32mwith\u001b[0m \u001b[0mfiona_env\u001b[0m\u001b[0;34m(\u001b[0m\u001b[0;34m)\u001b[0m\u001b[0;34m:\u001b[0m\u001b[0;34m\u001b[0m\u001b[0;34m\u001b[0m\u001b[0m\n\u001b[0;32m--> 160\u001b[0;31m         \u001b[0;32mwith\u001b[0m \u001b[0mreader\u001b[0m\u001b[0;34m(\u001b[0m\u001b[0mpath_or_bytes\u001b[0m\u001b[0;34m,\u001b[0m \u001b[0;34m**\u001b[0m\u001b[0mkwargs\u001b[0m\u001b[0;34m)\u001b[0m \u001b[0;32mas\u001b[0m \u001b[0mfeatures\u001b[0m\u001b[0;34m:\u001b[0m\u001b[0;34m\u001b[0m\u001b[0;34m\u001b[0m\u001b[0m\n\u001b[0m\u001b[1;32m    161\u001b[0m \u001b[0;34m\u001b[0m\u001b[0m\n\u001b[1;32m    162\u001b[0m             \u001b[0;31m# In a future Fiona release the crs attribute of features will\u001b[0m\u001b[0;34m\u001b[0m\u001b[0;34m\u001b[0m\u001b[0;34m\u001b[0m\u001b[0m\n",
      "\u001b[0;32m~/opt/anaconda3/envs/geo-2021/lib/python3.6/site-packages/fiona/env.py\u001b[0m in \u001b[0;36mwrapper\u001b[0;34m(*args, **kwargs)\u001b[0m\n\u001b[1;32m    406\u001b[0m     \u001b[0;32mdef\u001b[0m \u001b[0mwrapper\u001b[0m\u001b[0;34m(\u001b[0m\u001b[0;34m*\u001b[0m\u001b[0margs\u001b[0m\u001b[0;34m,\u001b[0m \u001b[0;34m**\u001b[0m\u001b[0mkwargs\u001b[0m\u001b[0;34m)\u001b[0m\u001b[0;34m:\u001b[0m\u001b[0;34m\u001b[0m\u001b[0;34m\u001b[0m\u001b[0m\n\u001b[1;32m    407\u001b[0m         \u001b[0;32mif\u001b[0m \u001b[0mlocal\u001b[0m\u001b[0;34m.\u001b[0m\u001b[0m_env\u001b[0m\u001b[0;34m:\u001b[0m\u001b[0;34m\u001b[0m\u001b[0;34m\u001b[0m\u001b[0m\n\u001b[0;32m--> 408\u001b[0;31m             \u001b[0;32mreturn\u001b[0m \u001b[0mf\u001b[0m\u001b[0;34m(\u001b[0m\u001b[0;34m*\u001b[0m\u001b[0margs\u001b[0m\u001b[0;34m,\u001b[0m \u001b[0;34m**\u001b[0m\u001b[0mkwargs\u001b[0m\u001b[0;34m)\u001b[0m\u001b[0;34m\u001b[0m\u001b[0;34m\u001b[0m\u001b[0m\n\u001b[0m\u001b[1;32m    409\u001b[0m         \u001b[0;32melse\u001b[0m\u001b[0;34m:\u001b[0m\u001b[0;34m\u001b[0m\u001b[0;34m\u001b[0m\u001b[0m\n\u001b[1;32m    410\u001b[0m             \u001b[0;32mif\u001b[0m \u001b[0misinstance\u001b[0m\u001b[0;34m(\u001b[0m\u001b[0margs\u001b[0m\u001b[0;34m[\u001b[0m\u001b[0;36m0\u001b[0m\u001b[0;34m]\u001b[0m\u001b[0;34m,\u001b[0m \u001b[0mstr\u001b[0m\u001b[0;34m)\u001b[0m\u001b[0;34m:\u001b[0m\u001b[0;34m\u001b[0m\u001b[0;34m\u001b[0m\u001b[0m\n",
      "\u001b[0;32m~/opt/anaconda3/envs/geo-2021/lib/python3.6/site-packages/fiona/__init__.py\u001b[0m in \u001b[0;36mopen\u001b[0;34m(fp, mode, driver, schema, crs, encoding, layer, vfs, enabled_drivers, crs_wkt, **kwargs)\u001b[0m\n\u001b[1;32m    255\u001b[0m         \u001b[0;32mif\u001b[0m \u001b[0mmode\u001b[0m \u001b[0;32min\u001b[0m \u001b[0;34m(\u001b[0m\u001b[0;34m'a'\u001b[0m\u001b[0;34m,\u001b[0m \u001b[0;34m'r'\u001b[0m\u001b[0;34m)\u001b[0m\u001b[0;34m:\u001b[0m\u001b[0;34m\u001b[0m\u001b[0;34m\u001b[0m\u001b[0m\n\u001b[1;32m    256\u001b[0m             c = Collection(path, mode, driver=driver, encoding=encoding,\n\u001b[0;32m--> 257\u001b[0;31m                            layer=layer, enabled_drivers=enabled_drivers, **kwargs)\n\u001b[0m\u001b[1;32m    258\u001b[0m         \u001b[0;32melif\u001b[0m \u001b[0mmode\u001b[0m \u001b[0;34m==\u001b[0m \u001b[0;34m'w'\u001b[0m\u001b[0;34m:\u001b[0m\u001b[0;34m\u001b[0m\u001b[0;34m\u001b[0m\u001b[0m\n\u001b[1;32m    259\u001b[0m             \u001b[0;32mif\u001b[0m \u001b[0mschema\u001b[0m\u001b[0;34m:\u001b[0m\u001b[0;34m\u001b[0m\u001b[0;34m\u001b[0m\u001b[0m\n",
      "\u001b[0;32m~/opt/anaconda3/envs/geo-2021/lib/python3.6/site-packages/fiona/collection.py\u001b[0m in \u001b[0;36m__init__\u001b[0;34m(self, path, mode, driver, schema, crs, encoding, layer, vsi, archive, enabled_drivers, crs_wkt, ignore_fields, ignore_geometry, **kwargs)\u001b[0m\n\u001b[1;32m    160\u001b[0m             \u001b[0;32mif\u001b[0m \u001b[0mself\u001b[0m\u001b[0;34m.\u001b[0m\u001b[0mmode\u001b[0m \u001b[0;34m==\u001b[0m \u001b[0;34m'r'\u001b[0m\u001b[0;34m:\u001b[0m\u001b[0;34m\u001b[0m\u001b[0;34m\u001b[0m\u001b[0m\n\u001b[1;32m    161\u001b[0m                 \u001b[0mself\u001b[0m\u001b[0;34m.\u001b[0m\u001b[0msession\u001b[0m \u001b[0;34m=\u001b[0m \u001b[0mSession\u001b[0m\u001b[0;34m(\u001b[0m\u001b[0;34m)\u001b[0m\u001b[0;34m\u001b[0m\u001b[0;34m\u001b[0m\u001b[0m\n\u001b[0;32m--> 162\u001b[0;31m                 \u001b[0mself\u001b[0m\u001b[0;34m.\u001b[0m\u001b[0msession\u001b[0m\u001b[0;34m.\u001b[0m\u001b[0mstart\u001b[0m\u001b[0;34m(\u001b[0m\u001b[0mself\u001b[0m\u001b[0;34m,\u001b[0m \u001b[0;34m**\u001b[0m\u001b[0mkwargs\u001b[0m\u001b[0;34m)\u001b[0m\u001b[0;34m\u001b[0m\u001b[0;34m\u001b[0m\u001b[0m\n\u001b[0m\u001b[1;32m    163\u001b[0m             \u001b[0;32melif\u001b[0m \u001b[0mself\u001b[0m\u001b[0;34m.\u001b[0m\u001b[0mmode\u001b[0m \u001b[0;32min\u001b[0m \u001b[0;34m(\u001b[0m\u001b[0;34m'a'\u001b[0m\u001b[0;34m,\u001b[0m \u001b[0;34m'w'\u001b[0m\u001b[0;34m)\u001b[0m\u001b[0;34m:\u001b[0m\u001b[0;34m\u001b[0m\u001b[0;34m\u001b[0m\u001b[0m\n\u001b[1;32m    164\u001b[0m                 \u001b[0mself\u001b[0m\u001b[0;34m.\u001b[0m\u001b[0msession\u001b[0m \u001b[0;34m=\u001b[0m \u001b[0mWritingSession\u001b[0m\u001b[0;34m(\u001b[0m\u001b[0;34m)\u001b[0m\u001b[0;34m\u001b[0m\u001b[0;34m\u001b[0m\u001b[0m\n",
      "\u001b[0;32mfiona/ogrext.pyx\u001b[0m in \u001b[0;36mfiona.ogrext.Session.start\u001b[0;34m()\u001b[0m\n",
      "\u001b[0;32mfiona/_shim.pyx\u001b[0m in \u001b[0;36mfiona._shim.gdal_open_vector\u001b[0;34m()\u001b[0m\n",
      "\u001b[0;31mDriverError\u001b[0m: data/rtt_investors_classified.geojson: No such file or directory"
     ]
    }
   ],
   "source": [
    "# read in classified deeds file\n",
    "rtt_classifiedRead = gpd.read_file(\"data/rtt_investors_classified.geojson\")\n",
    "\n"
   ]
  },
  {
   "cell_type": "code",
   "execution_count": null,
   "id": "30a11ada",
   "metadata": {},
   "outputs": [],
   "source": [
    "# read in grantor classified deeds file\n",
    "rtt_grantorRead = gpd.read_file(\"data/rtt_grantor-investors_classified.geojson\")\n",
    "\n",
    "rtt_grantorCleaned = rtt_grantorRead.filter(['objectid','grantor_inv','grantor_occ'])\n",
    "\n",
    "rtt_classified = rtt_classifiedRead.merge(\n",
    "    rtt_grantorCleaned, left_on=\"objectid\", right_on=\"objectid\",how=\"left\")\n",
    "\n",
    "\n",
    "rtt_classified"
   ]
  },
  {
   "cell_type": "code",
   "execution_count": null,
   "id": "d95c6b88",
   "metadata": {
    "scrolled": true
   },
   "outputs": [],
   "source": [
    "# Specify coordinate reference system\n",
    "rtt_classified.to_crs='epsg:2272'\n",
    "\n",
    "#rtt_classified.head()"
   ]
  },
  {
   "cell_type": "code",
   "execution_count": null,
   "id": "607a1d2c",
   "metadata": {},
   "outputs": [],
   "source": [
    "city_limits = gpd.read_file(\"data/02_flip-investigations_data/Map_Base/PHI_City_Limits.geojson\")\n"
   ]
  },
  {
   "cell_type": "code",
   "execution_count": null,
   "id": "05a54785",
   "metadata": {},
   "outputs": [],
   "source": [
    "city_limits.crs \n"
   ]
  },
  {
   "cell_type": "code",
   "execution_count": null,
   "id": "a7017987",
   "metadata": {},
   "outputs": [],
   "source": [
    "PHI_city_limits = city_limits.to_crs(2272)"
   ]
  },
  {
   "cell_type": "code",
   "execution_count": null,
   "id": "a82fcf4e",
   "metadata": {
    "scrolled": true
   },
   "outputs": [],
   "source": [
    "# filter for grantees\n",
    "rtt_grantees = rtt_classified.loc[(rtt_classified['inv'] == 1) | (rtt_classified['occ'] == 1)] \n",
    "#rtt_investors.to_file(\"data/02_flip-investigations_data/rtt_investorsOnly.geojson\", driver='GeoJSON')\n",
    "\n",
    "# filter for grantors\n",
    "\n",
    "rtt_grantors = rtt_classified.loc[(rtt_classified['grantor_inv'] == 1) | (rtt_classified['grantor_occ'] == 1)] \n",
    "#rtt_occ.to_file(\"data/02_flip-investigations_data/rtt_occupantsOnly.geojson\", driver='GeoJSON')\n",
    "\n",
    "\n",
    "\n",
    "rtt_grantors\n"
   ]
  },
  {
   "cell_type": "code",
   "execution_count": null,
   "id": "28641e6b",
   "metadata": {},
   "outputs": [],
   "source": [
    "#GRANTEES\n",
    "\n",
    "#CHECK DATETIME AND CLEAN\n",
    "rtt_grantees['display_date_x'] = pd.to_datetime(rtt_grantees['display_date_x'])\n",
    "\n",
    "rtt_grantees_sorted = rtt_grantees.sort_values(by=['street_address_x','display_date_x'])\n",
    "grantee_resetIndex = rtt_grantees_sorted.reset_index()\n",
    "grantee_cleanDF = grantee_resetIndex.filter(['id','C_DIG1DESC','C_DIG2DESC','C_DIG3DESC','OBJECTID','YEAR','VACBLDG','adjusted_cash_consideration','adjusted_total_consideration','document_id','document_type','fair_market_value','grantees_x_x','grantors_x','inv','lat','lng','matched_regmap','multi_invest','occ','owner_occup','property_count','display_date_x','recording_date','reg_map_id','sort_year_x','street_address_x','total_consideration','ward','unit_num','zip_code','geometry'])\n",
    "\n",
    "\n",
    "\n",
    "#GROUP AND ROLLING DIFFERENCE\n",
    "\n",
    "grantee_beg = (grantee_cleanDF.street_address_x == grantee_cleanDF.street_address_x.shift(1))                                                  \n",
    "grantee_cleanDF['deedDiff2'] = (grantee_cleanDF['display_date_x'] - grantee_cleanDF['display_date_x'].shift(1))/np.timedelta64(1,'D')\n",
    "grantee_cleanDF['deedDiff'] = grantee_cleanDF['deedDiff2'].where(grantee_beg,0).ffill()\n",
    "\n",
    "#FILTER OUT DUPLICATES - filter out rows that have same address + display date\n",
    "\n",
    "\n",
    "rtt_deedDiff_grantee = grantee_cleanDF.drop_duplicates(\n",
    "    subset = ['street_address_x','display_date_x'],\n",
    "    keep = 'last').reset_index(drop=True)\n",
    "\n",
    "\n",
    "#rtt_deedDiff_grantee.to_file(\"data/02_flip-investigations_data/rtt_deedDiff_grantee.geojson\", driver='GeoJSON')\n",
    "\n",
    "# FILTER FOR FLIPS\n",
    "\n",
    "#first take out 0s\n",
    "\n",
    "grantee_no0 = rtt_deedDiff_grantee.loc[rtt_deedDiff_grantee['deedDiff'] != 0.0]\n",
    "#then filter for less than 1.5 years (575 days)\n",
    "rtt_Flips_grantee = grantee_no0.loc[grantee_no0['deedDiff'] <= 575]\n",
    "\n",
    "#rtt_Flips_grantee.to_file(\"data/02_flip-investigations_data/rtt_Flips_grantee.geojson\", driver='GeoJSON')\n"
   ]
  },
  {
   "cell_type": "code",
   "execution_count": null,
   "id": "66d9a605",
   "metadata": {},
   "outputs": [],
   "source": [
    "#GRANTORS\n",
    "\n",
    "#CHECK DATETIME AND CLEAN\n",
    "rtt_grantors['display_date_x'] = pd.to_datetime(rtt_grantors['display_date_x'])\n",
    "\n",
    "\n",
    "rtt_grantors_sorted = rtt_grantors.sort_values(by=['street_address_x','display_date_x'])\n",
    "grantors_resetIndex = rtt_grantors_sorted.reset_index()\n",
    "grantors_cleanDF = grantors_resetIndex.filter(['id','C_DIG1DESC','C_DIG2DESC','C_DIG3DESC','OBJECTID','YEAR','VACBLDG','adjusted_cash_consideration','adjusted_total_consideration','document_id','document_type','fair_market_value','grantees_x_x','grantors_x','grantor_inv','lat','lng','matched_regmap','multi_invest','grantor_occ','inv','occ','owner_occup','property_count','display_date_x','recording_date','reg_map_id','sort_year_x','street_address_x','total_consideration','ward','unit_num','zip_code','geometry'])\n",
    "\n",
    "\n",
    "#GROUP AND ROLLING DIFFERENCE\n",
    "\n",
    "grantors_beg = (grantors_cleanDF.street_address_x == grantors_cleanDF.street_address_x.shift(1))                                                  \n",
    "grantors_cleanDF['deedDiff2'] = (grantors_cleanDF['display_date_x'] - grantors_cleanDF['display_date_x'].shift(1))/np.timedelta64(1,'D')\n",
    "grantors_cleanDF['deedDiff'] = grantors_cleanDF['deedDiff2'].where(grantors_beg,0).ffill()\n",
    "\n",
    "\n",
    "#FILTER OUT DUPLICATES - filter out rows that have same address + display date\n",
    "                 \n",
    "rtt_deedDiff_grantors = grantors_cleanDF.drop_duplicates(\n",
    "    subset = ['street_address_x','display_date_x'],\n",
    "    keep = 'last').reset_index(drop=True)\n",
    "\n",
    "#rtt_deedDiff_grantors.to_file(\"data/02_flip-investigations_data/rtt_deedDiff_grantors.geojson\", driver='GeoJSON')\n",
    "\n",
    "# FILTER FOR FLIPS \n",
    "\n",
    "#first take out 0s\n",
    "\n",
    "grantors_no0 = rtt_deedDiff_grantors.loc[rtt_deedDiff_grantors['deedDiff'] != 0.0]\n",
    "#then filter for less than 1.5 years (575 days)\n",
    "rtt_Flips_grantors = grantors_no0.loc[grantors_no0['deedDiff'] <= 575]\n",
    "\n",
    "\n",
    "#rtt_Flips_grantors.to_file(\"data/02_flip-investigations_data/rtt_Flips_grantors.geojson\", driver='GeoJSON')\n",
    "\n",
    "#rtt_Flips_grantors.head(20)[['deedDiff','display_date_x','grantors_x','grantees_x_x','street_address_x']]\n",
    "#rtt_Flips_grantors\n",
    "\n",
    "\n",
    "\n"
   ]
  },
  {
   "cell_type": "code",
   "execution_count": null,
   "id": "32c5a1db",
   "metadata": {},
   "outputs": [],
   "source": [
    "rtt_Flips_grantors.size\n"
   ]
  },
  {
   "cell_type": "code",
   "execution_count": null,
   "id": "d7401c74",
   "metadata": {},
   "outputs": [],
   "source": [
    "rtt_Flips_grantors_inv = rtt_Flips_grantors.loc[rtt_Flips_grantors['grantor_inv']==1]\n",
    "rtt_Flips_grantors_occ = rtt_Flips_grantors.loc[rtt_Flips_grantors['grantor_occ']==1]\n",
    "rtt_Flips_grantors_invToOcc = rtt_Flips_grantors.loc[~(rtt_Flips_grantors['grantor_inv']==1) & (rtt_Flips_grantors['occ']==1)]\n",
    "\n",
    "\n",
    "#rtt_Flips_grantors_inv.to_file(\"data/02_flip-investigations_data/rtt_Flips_grantors_inv.geojson\", driver='GeoJSON')\n",
    "#rtt_Flips_grantors_invToOcc.to_file(\"data/02_flip-investigations_data/rtt_Flips_grantors_invToOcc.geojson\", driver='GeoJSON')\n",
    "                                                     \n",
    "rtt_Flips_grantors_inv.head(20)[['deedDiff','display_date_x','grantors_x','grantees_x_x','street_address_x']]                                                \n",
    "                                                \n",
    "#rtt_owner_check = rtt_investors.loc[rtt_investors['owner_occup'] == 1] "
   ]
  },
  {
   "cell_type": "code",
   "execution_count": null,
   "id": "675d1f5a",
   "metadata": {
    "scrolled": false
   },
   "outputs": [],
   "source": [
    "fig, ax = plt.subplots(figsize=(10,10))\n",
    "\n",
    "ax.set_box_aspect(aspect=1)\n",
    "\n",
    "PHI_city_limits.plot(ax=ax, color='white', edgecolor='black')\n",
    "\n",
    "\n",
    "#rtt_classified.plot(ax=ax, color='blue')\n",
    "\n",
    "#rtt_investors.plot(ax=ax, color = 'blue')\n",
    "#rtt_Flips_grantee.plot(ax=ax, color = 'purple')\n",
    "\n",
    "\n",
    "rtt_Flips_grantors.plot(ax=ax, color = 'red')\n",
    "\n",
    "\n"
   ]
  },
  {
   "cell_type": "code",
   "execution_count": null,
   "id": "6f165445",
   "metadata": {},
   "outputs": [],
   "source": [
    "# All grantors plot\n",
    "#total_bar = total.reset_index()\n",
    "#f, (ax1) = plt.subplots(1,1,figsize=(40, 10))\n",
    "#sns.set(style=\"white\")\n",
    "\n",
    "#plt.plot(rtt_Flips_grantors['sort_year_x'], marker='o', color = 'black')\n",
    "#plt.plot(total_bar['year'],total_bar['investor_all'], marker='o', color = 'black')\n",
    "#plt.plot(total_bar['year'],total_bar['inv'], marker='o', color = 'black')"
   ]
  },
  {
   "cell_type": "code",
   "execution_count": null,
   "id": "36a703df",
   "metadata": {},
   "outputs": [],
   "source": [
    "#Grantor investor bar graph\n",
    "\n",
    "f, (ax1) = plt.subplots(1,1,figsize=(10, 10))\n",
    "# sns.set(style=\"white\")\n",
    "\n",
    "plt.bar(rtt_Flips_grantors['display_date_x'],rtt_Flips_grantors['fair_market_value'])\n",
    "\n",
    "#plt.scatter(rtt_Flips_grantors['display_date_x'],rtt_Flips_grantors['fair_market_value'])\n"
   ]
  },
  {
   "cell_type": "code",
   "execution_count": null,
   "id": "90f8c288",
   "metadata": {
    "scrolled": true
   },
   "outputs": [],
   "source": [
    "# Calculations\n",
    "\n",
    "print(rtt_Flips_grantors.size/rtt_classified.size)\n",
    "print(rtt_Flips_grantors_inv.size/rtt_Flips_grantors.size)\n",
    "print(rtt_Flips_grantors_invToOcc.size/rtt_Flips_grantors_inv.size)"
   ]
  },
  {
   "cell_type": "code",
   "execution_count": null,
   "id": "ffae07bd",
   "metadata": {
    "scrolled": false
   },
   "outputs": [],
   "source": [
    "# All Flips Histogram\n",
    "plt.title(label=\"All Flips\")\n",
    "plt.hist(rtt_Flips_grantors['display_date_x'])\n",
    "\n",
    "\n",
    "#plt.savefig(\"data/02_flip-investigations_data/Hist_All-Flips.png\")\n"
   ]
  },
  {
   "cell_type": "code",
   "execution_count": null,
   "id": "b9f3b089",
   "metadata": {},
   "outputs": [],
   "source": [
    "# All Flips (grantor vs. grantee) Histogram\n",
    "plt.title(label=\"All Flips\")\n",
    "plt.hist([rtt_Flips_grantors['display_date_x'],rtt_Flips_grantee['display_date_x']],stacked=False, density=True)\n",
    "\n",
    "\n",
    "#plt.savefig(\"data/02_flip-investigations_data/Hist_All-Flips_grantorxgrantee.png\")"
   ]
  },
  {
   "cell_type": "code",
   "execution_count": null,
   "id": "11c75f84",
   "metadata": {},
   "outputs": [],
   "source": [
    "# Investor Flips Histogram\n",
    "plt.title(label=\"Flips by Investor\")\n",
    "plt.hist(rtt_Flips_grantors_inv['display_date_x'])\n",
    "\n",
    "\n",
    "#plt.savefig(\"data/02_flip-investigations_data/Hist_Inv-Flips.png\")"
   ]
  },
  {
   "cell_type": "code",
   "execution_count": null,
   "id": "0fb1c9e6",
   "metadata": {},
   "outputs": [],
   "source": [
    "# NON - Investor Flips Histogram\n",
    "plt.title(label=\"Flips by Non - Investor\")\n",
    "plt.hist(rtt_Flips_grantors_occ['display_date_x'])\n",
    "\n",
    "\n",
    "#plt.savefig(\"data/02_flip-investigations_data/Hist_Occ-Flips.png\")"
   ]
  },
  {
   "cell_type": "code",
   "execution_count": null,
   "id": "8edcd448",
   "metadata": {},
   "outputs": [],
   "source": [
    "# Investor to Occupant Flips Histogram\n",
    "plt.title(label=\"Flips by Investor bought by Occupant\")\n",
    "plt.hist(rtt_Flips_grantors_invToOcc['display_date_x'])\n",
    "\n",
    "\n",
    "plt.savefig(\"data/02_flip-investigations_data/Hist_InvToOcc-Flips.png\")"
   ]
  },
  {
   "cell_type": "code",
   "execution_count": null,
   "id": "4fd79da4",
   "metadata": {},
   "outputs": [],
   "source": [
    "# Investor vs. Investor to Occupant Flips Histogram\n",
    "plt.title(label=\"Flips by Investor vs. by Occupant\")\n",
    "plt.hist([rtt_Flips_grantors_inv['display_date_x'],rtt_Flips_grantors_occ['display_date_x']], stacked=False, density=True)\n",
    "\n",
    "\n",
    "#plt.savefig(\"data/02_flip-investigations_data/Hist_Inv+Occ-Flips.png\")\n"
   ]
  },
  {
   "cell_type": "code",
   "execution_count": null,
   "id": "89a2b8d1",
   "metadata": {
    "scrolled": true
   },
   "outputs": [],
   "source": [
    "# Grantor Flips Scatter\n",
    "\n",
    "plt.title(label=\"Grantor Flips x Price\")\n",
    "plt.scatter(rtt_Flips_grantors['display_date_x'],rtt_Flips_grantors['deedDiff'])\n",
    "#plt.savefig(\"data/02_flip-investigations_data/Scat_Owner-Flips.png\")\n",
    "\n",
    "\n",
    "\n"
   ]
  },
  {
   "cell_type": "code",
   "execution_count": null,
   "id": "8093c63d",
   "metadata": {},
   "outputs": [],
   "source": [
    "#grantor Flips Violin Plot\n",
    "\n",
    "\n",
    "plt.title(label=\"Investor Flips x Price\")\n",
    "plt.violinplot(rtt_Flips_grantors['display_date_x'],rtt_Flips_grantors['deedDiff'])\n",
    "\n"
   ]
  },
  {
   "cell_type": "code",
   "execution_count": null,
   "id": "8b9cfef2",
   "metadata": {},
   "outputs": [],
   "source": [
    "#rtt_deedDiff_grantee.head(30)[['deedDiff','display_date_x','street_address_x']]\n",
    "\n",
    "#rtt_Flips_grantors.head(10)[['deedDiff','display_date_x','grantors_x','grantees_x_x','street_address_x']]\n",
    "\n",
    "check_all = rtt_classified.loc[(rtt_classified['street_address_x'] == '1000 S COLORADO ST')]\n",
    "\n",
    "check_all['display_date_x'] = pd.to_datetime(check_all['display_date_x'])\n",
    "check_all_sorted = check_all.sort_values(by=['street_address_x','display_date_x'])\n",
    "\n",
    "check_all_sorted.head(20)[['display_date_x','grantors_x','grantees_x_x','street_address_x']]\n",
    "\n",
    "\n"
   ]
  },
  {
   "cell_type": "code",
   "execution_count": null,
   "id": "30fccba3",
   "metadata": {},
   "outputs": [],
   "source": [
    "#check_deedDiff = grantors_cleanDF.loc[(grantors_cleanDF['street_address_x'] == '1000 S COLORADO ST')]\n",
    "\n",
    "\n",
    "check_deedDiff = rtt_deedDiff_grantors.loc[(rtt_deedDiff_grantors['street_address_x'] == '1000 S COLORADO ST')]\n",
    "\n",
    "\n",
    "\n",
    "\n",
    "\n",
    "check_deedDiff.head(20)[['deedDiff','display_date_x','grantors_x','grantees_x_x','street_address_x']]"
   ]
  },
  {
   "cell_type": "code",
   "execution_count": null,
   "id": "748a449f",
   "metadata": {
    "scrolled": true
   },
   "outputs": [],
   "source": [
    "check_Flips = rtt_Flips_grantors.loc[(rtt_Flips_grantors['street_address_x'] == '1000 S COLORADO ST')]\n",
    "\n",
    "\n",
    "check_Flips.head(50)[['deedDiff','display_date_x','grantors_x','grantees_x_x','street_address_x']]\n"
   ]
  },
  {
   "cell_type": "code",
   "execution_count": null,
   "id": "0c62c343",
   "metadata": {},
   "outputs": [],
   "source": [
    "#GRAVEYARD\n",
    "\n",
    "# check for owner_occ - check is good\n",
    "#rtt_owner_check = rtt_investors.loc[rtt_investors['owner_occup'] == 1] \n",
    "#rtt_owner_check.shape\n",
    "\n",
    "#_grouped = df.groupby(\"street_address_x\").rolling(window=1).Amount.count()\n",
    "\n",
    "#rtt_investors_dateindex['flip_time'] = rtt_investors_dateindex.groupby(['street_address_x']).document_date.astype('timedelta64[D]')\n",
    "\n",
    "#cleanDF['deedDiff'] = cleanDF.groupby(['street_address_x','receipt_date']).receipt_date.apply(lambda x: x - x.iloc[0])\n",
    "#cleanDF['deedDiff'] /= np.timedelta64 (1, 'D')\n",
    "\n",
    "#grantors_cleanDF['deedDiff'] = grantors_cleanDF.groupby(['street_address_x','display_date_x']).display_date_x.apply(lambda x: x - x.iloc[0])\n",
    "#grantors_cleanDF['deedDiff'] /= np.timedelta64 (1, 'D')\n",
    "\n",
    "\n",
    "#grantors_cleanDF['deedDiff'] = (grantors_cleanDF['display_date_x'] - grantors_cleanDF['display_date_x'].where(grantors_beg).ffill())/np.timedelta64(1,'D')\n",
    "\n",
    "#grantors_cleanDF['deedDiff']\n",
    "\n",
    "#grantors_cleanDF['deedDiff'] = grantors_cleanDF.groupby(['display_date_x']).display_date_x.apply(lambda x: x - x.iloc[0]).apply(lambda x:x / np.timedelta64(1, 'D'))\n",
    "#grantors_cleanDF['deedDiff'] = grantors_cleanDF.groupby('street_address_x')['display_date_x'].diff().fillna(pd.Timedelta(seconds=0))\n",
    "\n",
    "\n",
    "\n",
    "\n",
    "#rtt_investors.crs = 'epsg:4326'\n",
    "#PHI_rtt_investors = rtt_investors.to_crs('epsg:2272')\n",
    "\n",
    "#OCCUPANTS\n",
    "\n",
    "'''  # FILTER FOR ADDRESS / ZIP THAT APPEARS MOST TIMES\n",
    "\n",
    "topzip = rtt_classified['zip_code'].value_counts() \n",
    "topaddress = rtt_classified['street_address_x'].value_counts() \n",
    "\n",
    "#topaddress.head(10)\n",
    "#rtt_investors_topaddress.to_file(\"data/rtt_investors_topaddress.geojson\", driver ='GeoJSON')\n",
    "\n",
    "topaddress_1000 = topaddress.iloc[:1000]\n",
    "addresses=topaddress_1000.index\n",
    "a_list=list(addresses)\n",
    "#list2 = ['12 HAMILTON CIR,' '3817 POPLAR ST']\n",
    "\n",
    "#is_top = rtt_test['street_address_x'].isin(a_list)\n",
    "is_top = rtt_classified['street_address_x'] == '12 HAMILTON CIR'\n",
    "#is_top = rtt_test['zip_code'] == 19134\n",
    "rtt_top = rtt_classified[is_top]\n",
    "#rtt_top['property_count'].mean()\n",
    "rtt_top['receipt_date'] = pd.to_datetime(rtt_top.receipt_date)\n",
    "rtt_top.sort_values(by=['receipt_date'])\n",
    "rtt_top.shape\n",
    "\n",
    "\n",
    "\n",
    "#rtt_top.to_html('temp.html') '''\n",
    "\n",
    "'''\n",
    "#CHECK DATETIME AND CLEAN\n",
    "rtt_occ['receipt_date'] = pd.to_datetime(rtt_occ['receipt_date'])\n",
    "\n",
    "rtt_occ_sorted = rtt_occ.sort_values(by=['street_address_x','receipt_date'])\n",
    "occ_resetIndex = rtt_occ_sorted.reset_index()\n",
    "occ_cleanDF = occ_resetIndex.filter(['id','C_DIG1DESC','C_DIG2DESC','C_DIG3DESC','OBJECTID','YEAR','VACBLDG','adjusted_cash_consideration','adjusted_total_consideration','display_date_x','document_date','document_id','document_type','fair_market_value','grantees_x_x','grantors_x','inv','lat','lng','matched_regmap','multi_invest','occ','owner_occup','property_count','receipt_date','recording_date','reg_map_id','sort_year_x','street_address_x','total_consideration','ward','unit_num','zip_code','geometry'])\n",
    "\n",
    "\n",
    "#GROUP AND ROLLING DIFFERENCE\n",
    "\n",
    "\n",
    "occ_beg = (occ_cleanDF.street_address_x != occ_cleanDF.street_address_x.shift(1)) \n",
    "occ_cleanDF['deedDiff'] = (occ_cleanDF['receipt_date'] - occ_cleanDF['receipt_date'].where(occ_beg).ffill())/np.timedelta64(1,'D')\n",
    "rtt_deedDiff_occ = occ_cleanDF\n",
    "\n",
    "#rtt_deedDiff_occ.to_file(\"data/02_flip-investigations_data/rtt_deedDiff_occ.geojson\", driver='GeoJSON')\n",
    "\n",
    "# FILTER FOR FLIPS\n",
    "\n",
    "#first take out 0s\n",
    "occ_no0 = rtt_deedDiff_occ.loc[rtt_deedDiff_occ['deedDiff'] != 0.0]\n",
    "#then filter for less than 1.5 years (575 days)\n",
    "rtt_Flips_occ = occ_no0.loc[occ_no0['deedDiff'] <= 575]\n",
    "\n",
    "#rtt_Flips_occ.to_file(\"data/02_flip-investigations_data/rtt_Flips_occ.geojson\", driver='GeoJSON')\n",
    "'''\n",
    "\n"
   ]
  },
  {
   "cell_type": "code",
   "execution_count": null,
   "id": "a4e770a0",
   "metadata": {},
   "outputs": [],
   "source": []
  }
 ],
 "metadata": {
  "kernelspec": {
   "display_name": "Python 3",
   "language": "python",
   "name": "python3"
  },
  "language_info": {
   "codemirror_mode": {
    "name": "ipython",
    "version": 3
   },
   "file_extension": ".py",
   "mimetype": "text/x-python",
   "name": "python",
   "nbconvert_exporter": "python",
   "pygments_lexer": "ipython3",
   "version": "3.6.13"
  }
 },
 "nbformat": 4,
 "nbformat_minor": 5
}
