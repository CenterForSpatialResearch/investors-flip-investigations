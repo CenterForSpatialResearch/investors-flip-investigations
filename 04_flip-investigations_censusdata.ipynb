{
 "cells": [
  {
   "cell_type": "code",
   "execution_count": 6,
   "id": "2f4655ea",
   "metadata": {},
   "outputs": [],
   "source": [
    "import geopandas as gpd\n",
    "import pandas as pd\n",
    "pd.set_option('display.max_columns', 80)\n",
    "from shapely.geometry import Point, LineString\n",
    "from geopandas import GeoDataFrame\n",
    "from matplotlib.colors import LinearSegmentedColormap\n",
    "import matplotlib.pyplot as plt\n",
    "import seaborn as sns\n",
    "from census import Census\n",
    "from us import states\n",
    "\n",
    "import numpy as np\n",
    "import datetime"
   ]
  },
  {
   "cell_type": "code",
   "execution_count": 16,
   "id": "a95aacd8",
   "metadata": {},
   "outputs": [],
   "source": [
    "# READ IN FILES\n",
    "\n",
    "df_2009 = pd.read_csv(\"data/02_flip-investigations_data/censusDownload/2009_R12851355_SL150.csv\")                   \n",
    "df_2010 = pd.read_csv(\"data/02_flip-investigations_data/censusDownload/2010_R12851356_SL150.csv\")\n",
    "df_2011 = pd.read_csv(\"data/02_flip-investigations_data/censusDownload/2011_R12851352_SL150.csv\")\n",
    "df_2012 = pd.read_csv(\"data/02_flip-investigations_data/censusDownload/2012_R12851353_SL150.csv\")\n",
    "df_2013 = pd.read_csv(\"data/02_flip-investigations_data/censusDownload/2013_R12851354_SL150.csv\")\n",
    "df_2014 = pd.read_csv(\"data/02_flip-investigations_data/censusDownload/2014_R12851349_SL150.csv\")\n",
    "df_2015 = pd.read_csv(\"data/02_flip-investigations_data/censusDownload/2015_R12851350_SL150.csv\")\n",
    "df_2016 = pd.read_csv(\"data/02_flip-investigations_data/censusDownload/2016_R12851351_SL150.csv\")\n",
    "df_2017 = pd.read_csv(\"data/02_flip-investigations_data/censusDownload/2017_R12851343_SL150.csv\")\n",
    "df_2018 = pd.read_csv(\"data/02_flip-investigations_data/censusDownload/2018_R12851344_SL150.csv\")\n",
    "df_2019 = pd.read_csv(\"data/02_flip-investigations_data/censusDownload/2019_R12851345_SL150.csv\")\n"
   ]
  },
  {
   "cell_type": "code",
   "execution_count": 23,
   "id": "3babe258",
   "metadata": {},
   "outputs": [
    {
     "name": "stdout",
     "output_type": "stream",
     "text": [
      "datetime64[ns]\n"
     ]
    }
   ],
   "source": [
    "df_2009['YEAR'] = '2009-01-01'\n",
    "df_2009['YEAR'] = pd.to_datetime(df_2009['YEAR'])\n",
    "\n",
    "\n",
    "      \n",
    "\n",
    "\n"
   ]
  },
  {
   "cell_type": "code",
   "execution_count": null,
   "id": "77b8020e",
   "metadata": {},
   "outputs": [],
   "source": []
  }
 ],
 "metadata": {
  "kernelspec": {
   "display_name": "Python 3",
   "language": "python",
   "name": "python3"
  },
  "language_info": {
   "codemirror_mode": {
    "name": "ipython",
    "version": 3
   },
   "file_extension": ".py",
   "mimetype": "text/x-python",
   "name": "python",
   "nbconvert_exporter": "python",
   "pygments_lexer": "ipython3",
   "version": "3.6.13"
  }
 },
 "nbformat": 4,
 "nbformat_minor": 5
}
